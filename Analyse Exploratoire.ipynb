{
 "cells": [
  {
   "cell_type": "code",
   "id": "initial_id",
   "metadata": {
    "collapsed": true,
    "ExecuteTime": {
     "end_time": "2024-05-30T17:09:30.374731Z",
     "start_time": "2024-05-30T17:09:29.749182Z"
    }
   },
   "source": [
    "import pandas as pd\n",
    "import folium\n",
    "import random\n",
    "from shapely.geometry import LineString\n",
    "from itertools import combinations\n",
    "import matplotlib.pyplot as plt\n",
    "import seaborn as sns\n",
    "import osmnx as ox\n",
    "from concurrent.futures import ThreadPoolExecutor\n",
    "\n",
    "route_data_df = pd.read_parquet(r\"DataBase/route_data.parquet\")\n",
    "actual_sequences_df = pd.read_parquet(r\"DataBase/actual_sequences.parquet\")\n",
    "print(route_data_df.columns)\n",
    "print(actual_sequences_df.columns)\n",
    "print(route_data_df.info)\n",
    "print(route_data_df.info)"
   ],
   "outputs": [
    {
     "name": "stdout",
     "output_type": "stream",
     "text": [
      "Index(['RouteID', 'StationCode', 'Date', 'DepartureTimeUTC',\n",
      "       'ExecutorCapacityCm3', 'RouteScore', 'StopID', 'Latitude', 'Longitude',\n",
      "       'Type', 'ZoneID'],\n",
      "      dtype='object')\n",
      "Index(['RouteID', 'StopID', 'Sequence'], dtype='object')\n",
      "<bound method DataFrame.info of                                              RouteID StationCode        Date  \\\n",
      "0       RouteID_00143bdd-0a6b-49ec-bb35-36593d303e77        DLA3  2018-07-27   \n",
      "1       RouteID_00143bdd-0a6b-49ec-bb35-36593d303e77        DLA3  2018-07-27   \n",
      "2       RouteID_00143bdd-0a6b-49ec-bb35-36593d303e77        DLA3  2018-07-27   \n",
      "3       RouteID_00143bdd-0a6b-49ec-bb35-36593d303e77        DLA3  2018-07-27   \n",
      "4       RouteID_00143bdd-0a6b-49ec-bb35-36593d303e77        DLA3  2018-07-27   \n",
      "...                                              ...         ...         ...   \n",
      "904522  RouteID_fffd257c-3041-4736-be7a-5efea8af1173        DCH4  2018-08-03   \n",
      "904523  RouteID_fffd257c-3041-4736-be7a-5efea8af1173        DCH4  2018-08-03   \n",
      "904524  RouteID_fffd257c-3041-4736-be7a-5efea8af1173        DCH4  2018-08-03   \n",
      "904525  RouteID_fffd257c-3041-4736-be7a-5efea8af1173        DCH4  2018-08-03   \n",
      "904526  RouteID_fffd257c-3041-4736-be7a-5efea8af1173        DCH4  2018-08-03   \n",
      "\n",
      "       DepartureTimeUTC  ExecutorCapacityCm3 RouteScore StopID   Latitude  \\\n",
      "0              16:02:10            3313071.0       High     AD  34.099611   \n",
      "1              16:02:10            3313071.0       High     AF  34.101587   \n",
      "2              16:02:10            3313071.0       High     AG  34.089727   \n",
      "3              16:02:10            3313071.0       High     BA  34.096132   \n",
      "4              16:02:10            3313071.0       High     BE  34.098482   \n",
      "...                 ...                  ...        ...    ...        ...   \n",
      "904522         15:23:57            4247527.0     Medium     YU  42.199274   \n",
      "904523         15:23:57            4247527.0     Medium     YW  42.191658   \n",
      "904524         15:23:57            4247527.0     Medium     ZK  42.197786   \n",
      "904525         15:23:57            4247527.0     Medium     ZS  42.200531   \n",
      "904526         15:23:57            4247527.0     Medium     ZX  42.193048   \n",
      "\n",
      "         Longitude     Type   ZoneID  \n",
      "0      -118.283062  Dropoff  P-12.3C  \n",
      "1      -118.291125  Dropoff   A-1.2D  \n",
      "2      -118.285530  Dropoff   A-2.1A  \n",
      "3      -118.292869  Dropoff   A-1.2C  \n",
      "4      -118.286243  Dropoff  P-13.3B  \n",
      "...            ...      ...      ...  \n",
      "904522  -88.409274  Dropoff  B-29.1J  \n",
      "904523  -88.341865  Dropoff  B-29.3A  \n",
      "904524  -88.356688  Dropoff  B-29.2C  \n",
      "904525  -88.375282  Dropoff  B-29.2E  \n",
      "904526  -88.342870  Dropoff     None  \n",
      "\n",
      "[904527 rows x 11 columns]>\n",
      "<bound method DataFrame.info of                                              RouteID StationCode        Date  \\\n",
      "0       RouteID_00143bdd-0a6b-49ec-bb35-36593d303e77        DLA3  2018-07-27   \n",
      "1       RouteID_00143bdd-0a6b-49ec-bb35-36593d303e77        DLA3  2018-07-27   \n",
      "2       RouteID_00143bdd-0a6b-49ec-bb35-36593d303e77        DLA3  2018-07-27   \n",
      "3       RouteID_00143bdd-0a6b-49ec-bb35-36593d303e77        DLA3  2018-07-27   \n",
      "4       RouteID_00143bdd-0a6b-49ec-bb35-36593d303e77        DLA3  2018-07-27   \n",
      "...                                              ...         ...         ...   \n",
      "904522  RouteID_fffd257c-3041-4736-be7a-5efea8af1173        DCH4  2018-08-03   \n",
      "904523  RouteID_fffd257c-3041-4736-be7a-5efea8af1173        DCH4  2018-08-03   \n",
      "904524  RouteID_fffd257c-3041-4736-be7a-5efea8af1173        DCH4  2018-08-03   \n",
      "904525  RouteID_fffd257c-3041-4736-be7a-5efea8af1173        DCH4  2018-08-03   \n",
      "904526  RouteID_fffd257c-3041-4736-be7a-5efea8af1173        DCH4  2018-08-03   \n",
      "\n",
      "       DepartureTimeUTC  ExecutorCapacityCm3 RouteScore StopID   Latitude  \\\n",
      "0              16:02:10            3313071.0       High     AD  34.099611   \n",
      "1              16:02:10            3313071.0       High     AF  34.101587   \n",
      "2              16:02:10            3313071.0       High     AG  34.089727   \n",
      "3              16:02:10            3313071.0       High     BA  34.096132   \n",
      "4              16:02:10            3313071.0       High     BE  34.098482   \n",
      "...                 ...                  ...        ...    ...        ...   \n",
      "904522         15:23:57            4247527.0     Medium     YU  42.199274   \n",
      "904523         15:23:57            4247527.0     Medium     YW  42.191658   \n",
      "904524         15:23:57            4247527.0     Medium     ZK  42.197786   \n",
      "904525         15:23:57            4247527.0     Medium     ZS  42.200531   \n",
      "904526         15:23:57            4247527.0     Medium     ZX  42.193048   \n",
      "\n",
      "         Longitude     Type   ZoneID  \n",
      "0      -118.283062  Dropoff  P-12.3C  \n",
      "1      -118.291125  Dropoff   A-1.2D  \n",
      "2      -118.285530  Dropoff   A-2.1A  \n",
      "3      -118.292869  Dropoff   A-1.2C  \n",
      "4      -118.286243  Dropoff  P-13.3B  \n",
      "...            ...      ...      ...  \n",
      "904522  -88.409274  Dropoff  B-29.1J  \n",
      "904523  -88.341865  Dropoff  B-29.3A  \n",
      "904524  -88.356688  Dropoff  B-29.2C  \n",
      "904525  -88.375282  Dropoff  B-29.2E  \n",
      "904526  -88.342870  Dropoff     None  \n",
      "\n",
      "[904527 rows x 11 columns]>\n"
     ]
    }
   ],
   "execution_count": 2
  },
  {
   "cell_type": "code",
   "source": [
    "route_data_df = route_data_df.drop(columns=['StationCode', 'Date', 'DepartureTimeUTC','ExecutorCapacityCm3','Type'])\n",
    "\n",
    "\n",
    "# Assurez-vous que les deux DataFrames sont triés par RouteID et StopID\n",
    "route_data_df = route_data_df.sort_values(by=['RouteID', 'StopID']).reset_index(drop=True)\n",
    "actual_sequences_df = actual_sequences_df.sort_values(by=['RouteID', 'StopID']).reset_index(drop=True)\n",
    "actual_sequences_df = actual_sequences_df.rename(columns={'StopID': 'StopID2'})"
   ],
   "metadata": {
    "collapsed": false,
    "ExecuteTime": {
     "end_time": "2024-05-30T17:09:30.844429Z",
     "start_time": "2024-05-30T17:09:30.376240Z"
    }
   },
   "id": "56f0fa650f969cbb",
   "outputs": [],
   "execution_count": 3
  },
  {
   "cell_type": "code",
   "source": [
    "# Concaténer les DataFrames le long des colonnes\n",
    "data = pd.concat([route_data_df, actual_sequences_df.drop(columns='RouteID')], axis=1)\n",
    "data = data.drop(columns=['StopID2'])\n",
    "# Afficher les premières lignes du DataFrame concaténé\n",
    "print(data.head())\n",
    "print(data.info)\n"
   ],
   "metadata": {
    "collapsed": false,
    "ExecuteTime": {
     "end_time": "2024-05-30T17:09:30.925832Z",
     "start_time": "2024-05-30T17:09:30.845440Z"
    }
   },
   "id": "e8183b06833e14fa",
   "outputs": [
    {
     "name": "stdout",
     "output_type": "stream",
     "text": [
      "                                        RouteID RouteScore StopID   Latitude  \\\n",
      "0  RouteID_00143bdd-0a6b-49ec-bb35-36593d303e77       High     AD  34.099611   \n",
      "1  RouteID_00143bdd-0a6b-49ec-bb35-36593d303e77       High     AF  34.101587   \n",
      "2  RouteID_00143bdd-0a6b-49ec-bb35-36593d303e77       High     AG  34.089727   \n",
      "3  RouteID_00143bdd-0a6b-49ec-bb35-36593d303e77       High     BA  34.096132   \n",
      "4  RouteID_00143bdd-0a6b-49ec-bb35-36593d303e77       High     BE  34.098482   \n",
      "\n",
      "    Longitude   ZoneID  Sequence  \n",
      "0 -118.283062  P-12.3C       105  \n",
      "1 -118.291125   A-1.2D        47  \n",
      "2 -118.285530   A-2.1A         4  \n",
      "3 -118.292869   A-1.2C        33  \n",
      "4 -118.286243  P-13.3B       109  \n",
      "<bound method DataFrame.info of                                              RouteID RouteScore StopID  \\\n",
      "0       RouteID_00143bdd-0a6b-49ec-bb35-36593d303e77       High     AD   \n",
      "1       RouteID_00143bdd-0a6b-49ec-bb35-36593d303e77       High     AF   \n",
      "2       RouteID_00143bdd-0a6b-49ec-bb35-36593d303e77       High     AG   \n",
      "3       RouteID_00143bdd-0a6b-49ec-bb35-36593d303e77       High     BA   \n",
      "4       RouteID_00143bdd-0a6b-49ec-bb35-36593d303e77       High     BE   \n",
      "...                                              ...        ...    ...   \n",
      "904522  RouteID_fffd257c-3041-4736-be7a-5efea8af1173     Medium     YU   \n",
      "904523  RouteID_fffd257c-3041-4736-be7a-5efea8af1173     Medium     YW   \n",
      "904524  RouteID_fffd257c-3041-4736-be7a-5efea8af1173     Medium     ZK   \n",
      "904525  RouteID_fffd257c-3041-4736-be7a-5efea8af1173     Medium     ZS   \n",
      "904526  RouteID_fffd257c-3041-4736-be7a-5efea8af1173     Medium     ZX   \n",
      "\n",
      "         Latitude   Longitude   ZoneID  Sequence  \n",
      "0       34.099611 -118.283062  P-12.3C       105  \n",
      "1       34.101587 -118.291125   A-1.2D        47  \n",
      "2       34.089727 -118.285530   A-2.1A         4  \n",
      "3       34.096132 -118.292869   A-1.2C        33  \n",
      "4       34.098482 -118.286243  P-13.3B       109  \n",
      "...           ...         ...      ...       ...  \n",
      "904522  42.199274  -88.409274  B-29.1J       145  \n",
      "904523  42.191658  -88.341865  B-29.3A         4  \n",
      "904524  42.197786  -88.356688  B-29.2C        45  \n",
      "904525  42.200531  -88.375282  B-29.2E        84  \n",
      "904526  42.193048  -88.342870     None         3  \n",
      "\n",
      "[904527 rows x 7 columns]>\n"
     ]
    }
   ],
   "execution_count": 4
  },
  {
   "cell_type": "code",
   "source": [
    "def map_longitude_to_city(longitude):\n",
    "    if -125 <= longitude <= -120:\n",
    "        return \"Seattle\"\n",
    "    elif -119 <= longitude <= -115:\n",
    "        return \"LA\"\n",
    "    elif -110 <= longitude <= -105:\n",
    "        return \"Denver\"\n",
    "    elif -105 <= longitude <= -95:\n",
    "        return \"Austin\"\n",
    "    elif -89 <= longitude <= -85:\n",
    "        return \"Chicago\"\n",
    "    elif -75 <= longitude <= -68:\n",
    "        return \"Boston\"\n",
    "    else:\n",
    "        return None\n",
    "\n",
    "data[\"City\"] = data[\"Longitude\"].apply(map_longitude_to_city)\n",
    "data.head(5)"
   ],
   "metadata": {
    "collapsed": false,
    "ExecuteTime": {
     "end_time": "2024-05-30T17:09:31.252836Z",
     "start_time": "2024-05-30T17:09:30.927841Z"
    }
   },
   "id": "de600bbae99f27a5",
   "outputs": [
    {
     "data": {
      "text/plain": [
       "                                        RouteID RouteScore StopID   Latitude  \\\n",
       "0  RouteID_00143bdd-0a6b-49ec-bb35-36593d303e77       High     AD  34.099611   \n",
       "1  RouteID_00143bdd-0a6b-49ec-bb35-36593d303e77       High     AF  34.101587   \n",
       "2  RouteID_00143bdd-0a6b-49ec-bb35-36593d303e77       High     AG  34.089727   \n",
       "3  RouteID_00143bdd-0a6b-49ec-bb35-36593d303e77       High     BA  34.096132   \n",
       "4  RouteID_00143bdd-0a6b-49ec-bb35-36593d303e77       High     BE  34.098482   \n",
       "\n",
       "    Longitude   ZoneID  Sequence City  \n",
       "0 -118.283062  P-12.3C       105   LA  \n",
       "1 -118.291125   A-1.2D        47   LA  \n",
       "2 -118.285530   A-2.1A         4   LA  \n",
       "3 -118.292869   A-1.2C        33   LA  \n",
       "4 -118.286243  P-13.3B       109   LA  "
      ],
      "text/html": [
       "<div>\n",
       "<style scoped>\n",
       "    .dataframe tbody tr th:only-of-type {\n",
       "        vertical-align: middle;\n",
       "    }\n",
       "\n",
       "    .dataframe tbody tr th {\n",
       "        vertical-align: top;\n",
       "    }\n",
       "\n",
       "    .dataframe thead th {\n",
       "        text-align: right;\n",
       "    }\n",
       "</style>\n",
       "<table border=\"1\" class=\"dataframe\">\n",
       "  <thead>\n",
       "    <tr style=\"text-align: right;\">\n",
       "      <th></th>\n",
       "      <th>RouteID</th>\n",
       "      <th>RouteScore</th>\n",
       "      <th>StopID</th>\n",
       "      <th>Latitude</th>\n",
       "      <th>Longitude</th>\n",
       "      <th>ZoneID</th>\n",
       "      <th>Sequence</th>\n",
       "      <th>City</th>\n",
       "    </tr>\n",
       "  </thead>\n",
       "  <tbody>\n",
       "    <tr>\n",
       "      <th>0</th>\n",
       "      <td>RouteID_00143bdd-0a6b-49ec-bb35-36593d303e77</td>\n",
       "      <td>High</td>\n",
       "      <td>AD</td>\n",
       "      <td>34.099611</td>\n",
       "      <td>-118.283062</td>\n",
       "      <td>P-12.3C</td>\n",
       "      <td>105</td>\n",
       "      <td>LA</td>\n",
       "    </tr>\n",
       "    <tr>\n",
       "      <th>1</th>\n",
       "      <td>RouteID_00143bdd-0a6b-49ec-bb35-36593d303e77</td>\n",
       "      <td>High</td>\n",
       "      <td>AF</td>\n",
       "      <td>34.101587</td>\n",
       "      <td>-118.291125</td>\n",
       "      <td>A-1.2D</td>\n",
       "      <td>47</td>\n",
       "      <td>LA</td>\n",
       "    </tr>\n",
       "    <tr>\n",
       "      <th>2</th>\n",
       "      <td>RouteID_00143bdd-0a6b-49ec-bb35-36593d303e77</td>\n",
       "      <td>High</td>\n",
       "      <td>AG</td>\n",
       "      <td>34.089727</td>\n",
       "      <td>-118.285530</td>\n",
       "      <td>A-2.1A</td>\n",
       "      <td>4</td>\n",
       "      <td>LA</td>\n",
       "    </tr>\n",
       "    <tr>\n",
       "      <th>3</th>\n",
       "      <td>RouteID_00143bdd-0a6b-49ec-bb35-36593d303e77</td>\n",
       "      <td>High</td>\n",
       "      <td>BA</td>\n",
       "      <td>34.096132</td>\n",
       "      <td>-118.292869</td>\n",
       "      <td>A-1.2C</td>\n",
       "      <td>33</td>\n",
       "      <td>LA</td>\n",
       "    </tr>\n",
       "    <tr>\n",
       "      <th>4</th>\n",
       "      <td>RouteID_00143bdd-0a6b-49ec-bb35-36593d303e77</td>\n",
       "      <td>High</td>\n",
       "      <td>BE</td>\n",
       "      <td>34.098482</td>\n",
       "      <td>-118.286243</td>\n",
       "      <td>P-13.3B</td>\n",
       "      <td>109</td>\n",
       "      <td>LA</td>\n",
       "    </tr>\n",
       "  </tbody>\n",
       "</table>\n",
       "</div>"
      ]
     },
     "execution_count": 5,
     "metadata": {},
     "output_type": "execute_result"
    }
   ],
   "execution_count": 5
  },
  {
   "cell_type": "code",
   "source": [
    "# Assurez-vous que les données sont triées par ordre de StopID\n",
    "data = data.sort_values(by=['RouteID', 'Sequence'])"
   ],
   "metadata": {
    "collapsed": false,
    "ExecuteTime": {
     "end_time": "2024-05-30T17:09:31.450438Z",
     "start_time": "2024-05-30T17:09:31.254346Z"
    }
   },
   "id": "1977a444af2d117f",
   "outputs": [],
   "execution_count": 6
  },
  {
   "cell_type": "code",
   "source": [
    "# Export the DataFrame to a CSV file\n",
    "'''\n",
    "data.to_csv(\"combined_routes_city.csv\", index=False)\n",
    "\n",
    "print(data[\"RouteID\"].nunique())\n",
    "'''\n",
    "# Calculer le nombre unique de routes par ville\n",
    "unique_routes_by_city = data.groupby(\"City\")[\"RouteID\"].nunique().reset_index()\n",
    "\n",
    "# Renommer les colonnes pour une meilleure compréhension\n",
    "unique_routes_by_city.columns = [\"City\", \"UniqueRouteCount\"]\n",
    "\n",
    "# Afficher le DataFrame\n",
    "print(unique_routes_by_city)\n",
    "\n",
    "# Créer un graphique à barres avec Seaborn\n",
    "plt.figure(figsize=(10, 6))\n",
    "sns.barplot(x=\"City\", y=\"UniqueRouteCount\", data=unique_routes_by_city)\n",
    "plt.xlabel(\"Villes\")\n",
    "plt.ylabel(\"Nombre de routes uniques\")\n",
    "plt.title(\"Routes uniques par ville\")\n",
    "plt.xticks(rotation=45)\n",
    "plt.show()"
   ],
   "metadata": {
    "collapsed": false,
    "ExecuteTime": {
     "end_time": "2024-05-30T17:09:31.932584Z",
     "start_time": "2024-05-30T17:09:31.452448Z"
    }
   },
   "id": "85748ef369fd12a7",
   "outputs": [
    {
     "name": "stdout",
     "output_type": "stream",
     "text": [
      "      City  UniqueRouteCount\n",
      "0   Austin               214\n",
      "1   Boston               929\n",
      "2  Chicago              1002\n",
      "3       LA              2888\n",
      "4  Seattle              1079\n"
     ]
    },
    {
     "data": {
      "text/plain": [
       "<Figure size 1000x600 with 1 Axes>"
      ],
      "image/png": "[encoded data removed]"
     },
     "metadata": {},
     "output_type": "display_data"
    }
   ],
   "execution_count": 7
  },
  {
   "metadata": {},
   "cell_type": "markdown",
   "source": "Ajout avec ZoneID",
   "id": "5a96bca893ddaf38"
  },
  {
   "metadata": {
    "ExecuteTime": {
     "end_time": "2024-05-30T17:09:32.765969Z",
     "start_time": "2024-05-30T17:09:31.934598Z"
    }
   },
   "cell_type": "code",
   "source": [
    "\n",
    "# Filtrer le DataFrame pour inclure uniquement les lignes avec \"Boston\" dans la colonne \"City\"\n",
    "data_boston = data[data[\"City\"] == \"Boston\"]\n",
    "\n",
    "# Obtenir 20 IDs de routes aléatoires uniques\n",
    "num_routes_to_plot = 10\n",
    "random_routes = random.sample(list(set(data_boston[\"RouteID\"])), num_routes_to_plot)\n",
    "\n",
    "# Filtrer le DataFrame pour inclure uniquement les lignes avec les IDs de routes sélectionnés\n",
    "random_routes_data = data_boston[data_boston[\"RouteID\"].isin(random_routes)]\n",
    "\n",
    "# Créer une carte Folium centrée autour de Boston\n",
    "Boston_map = folium.Map(location=[42.3601, -71.0589], zoom_start=11)\n",
    "\n",
    "# Grouper les données filtrées par ZoneID et calculer les valeurs maximales et minimales de latitude et de longitude pour chaque groupe\n",
    "grouped_data = random_routes_data.groupby(\"ZoneID\").agg({\n",
    "    \"Latitude\": [\"min\", \"max\"],\n",
    "    \"Longitude\": [\"min\", \"max\"]\n",
    "}).reset_index()\n",
    "\n",
    "# Itérer à travers chaque groupe et ajouter un carré à la carte\n",
    "for _, row in grouped_data.iterrows():\n",
    "    zone_id = row[\"ZoneID\"].values[0] if isinstance(row[\"ZoneID\"], pd.Series) else row[\"ZoneID\"]\n",
    "    lat_min = row[(\"Latitude\", \"min\")]\n",
    "    lat_max = row[(\"Latitude\", \"max\")]\n",
    "    lon_min = row[(\"Longitude\", \"min\")]\n",
    "    lon_max = row[(\"Longitude\", \"max\")]\n",
    "\n",
    "    # Définir les coordonnées du carré\n",
    "    coordinates = [\n",
    "        [lat_min, lon_min],\n",
    "        [lat_min, lon_max],\n",
    "        [lat_max, lon_max],\n",
    "        [lat_max, lon_min],\n",
    "        [lat_min, lon_min]\n",
    "    ]\n",
    "\n",
    "    # Ajouter le carré à la carte avec un popup affichant le ZoneID\n",
    "    folium.PolyLine(locations=coordinates, color='green', weight=4, opacity=0.8).add_to(Boston_map)\n",
    "\n",
    "    # Ajouter le nom de la zone (ZoneID) directement sur la carte\n",
    "    center_lat = (lat_min + lat_max) / 2\n",
    "    center_lon = (lon_min + lon_max) / 2\n",
    "    folium.Marker(\n",
    "        location=[center_lat, center_lon],\n",
    "        icon=folium.DivIcon(html=f'<div style=\"color : red; font-weight: bold; font-size: 14px;\">{zone_id}</div>')\n",
    "    ).add_to(Boston_map)\n",
    "\n",
    "# Tracer les itinéraires sélectionnés sur la carte avec des lignes reliant les arrêts\n",
    "for route_id in random_routes:\n",
    "    route_data = random_routes_data[random_routes_data[\"RouteID\"] == route_id]\n",
    "    coordinates = list(zip(route_data[\"Latitude\"], route_data[\"Longitude\"]))\n",
    "    folium.PolyLine(locations=coordinates, color='blue').add_to(Boston_map)\n",
    "\n",
    "# Sauvegarder la carte en tant que fichier HTML\n",
    "Boston_map.save(\"Carte_routes_aléatoire_avec_ZoneID.html\")\n",
    "\n",
    "from IPython.display import IFrame\n",
    "IFrame(\"Carte_routes_aléatoire_avec_ZoneID.html\", width=800, height=600)\n"
   ],
   "id": "59ae89151f8d1008",
   "outputs": [
    {
     "data": {
      "text/plain": [
       "<IPython.lib.display.IFrame at 0x1dd36fb8950>"
      ],
      "text/html": [
       "\n",
       "        <iframe\n",
       "            width=\"800\"\n",
       "            height=\"600\"\n",
       "            src=\"Carte_routes_aléatoire_avec_ZoneID.html\"\n",
       "            frameborder=\"0\"\n",
       "            allowfullscreen\n",
       "            \n",
       "        ></iframe>\n",
       "        "
      ]
     },
     "execution_count": 8,
     "metadata": {},
     "output_type": "execute_result"
    }
   ],
   "execution_count": 8
  },
  {
   "cell_type": "code",
   "source": [
    "# Get 100 random unique route IDs\n",
    "num_routes_to_plot = 1000\n",
    "random_routes = random.sample(list(set(data[\"RouteID\"])), num_routes_to_plot)\n",
    "\n",
    "# Filter the DataFrame to include only rows with the selected route IDs\n",
    "random_routes_data = data[data[\"RouteID\"].isin(random_routes)]\n",
    "\n",
    "# Create a folium map centered around Austin\n",
    "map = folium.Map(location=[41.2672, -100.7431], zoom_start=4)\n",
    "\n",
    "# Itérer à travers les itinéraires sélectionnés et dessiner des lignes entre les arrêts consécutifs\n",
    "for route_id in random_routes:\n",
    "    route_data = random_routes_data[random_routes_data[\"RouteID\"] == route_id]\n",
    "    coordinates = list(zip(route_data[\"Latitude\"], route_data[\"Longitude\"]))\n",
    "\n",
    "    # Ajouter le dépôt (premier arrêt) à la fin des coordonnées pour revenir au départ\n",
    "    if coordinates:\n",
    "        coordinates.append(coordinates[0])\n",
    "\n",
    "    folium.PolyLine(locations=coordinates, color='blue').add_to(map)\n",
    "\n",
    "\n",
    "# Save the map as an HTML file\n",
    "map.save(\"random1000_routes_map.html\")\n",
    "\n",
    "# Afficher la carte dans le notebook \n",
    "from IPython.display import IFrame\n",
    "IFrame(\"random1000_routes_map.html\", width=800, height=600)"
   ],
   "metadata": {
    "collapsed": false,
    "ExecuteTime": {
     "end_time": "2024-05-30T17:09:41.475237Z",
     "start_time": "2024-05-30T17:09:32.767980Z"
    }
   },
   "id": "2b4d1d29df21097f",
   "outputs": [
    {
     "data": {
      "text/plain": [
       "<IPython.lib.display.IFrame at 0x1dd3e7f32f0>"
      ],
      "text/html": [
       "\n",
       "        <iframe\n",
       "            width=\"800\"\n",
       "            height=\"600\"\n",
       "            src=\"random1000_routes_map.html\"\n",
       "            frameborder=\"0\"\n",
       "            allowfullscreen\n",
       "            \n",
       "        ></iframe>\n",
       "        "
      ]
     },
     "execution_count": 9,
     "metadata": {},
     "output_type": "execute_result"
    }
   ],
   "execution_count": 9
  },
  {
   "cell_type": "code",
   "source": [
    "# Filter the DataFrame to include only rows with \"Austin\" in the \"City\" column\n",
    "data_austin = data[data[\"City\"] == \"Seattle\"]\n",
    "\n",
    "# Get 10 random unique route IDs\n",
    "num_routes_to_plot = 100\n",
    "random_routes = random.sample(list(set(data_austin[\"RouteID\"])), num_routes_to_plot)\n",
    "\n",
    "# Filter the DataFrame to include only rows with the selected route IDs\n",
    "random_routes_data = data_austin[data_austin[\"RouteID\"].isin(random_routes)]\n",
    "\n",
    "# Create a folium map centered around Austin\n",
    "austin_map = folium.Map(location=[random_routes_data['Latitude'].mean(), random_routes_data['Longitude'].mean()], zoom_start=10)\n",
    "\n",
    "# Itérer à travers les itinéraires sélectionnés et dessiner des lignes entre les arrêts consécutifs\n",
    "for route_id in random_routes:\n",
    "    route_data = random_routes_data[random_routes_data[\"RouteID\"] == route_id]\n",
    "    coordinates = list(zip(route_data[\"Latitude\"], route_data[\"Longitude\"]))\n",
    "\n",
    "    folium.PolyLine(locations=coordinates, color='blue', weight = 2).add_to(austin_map)\n",
    "\n",
    "\n",
    "# Save the map as an HTML file\n",
    "austin_map.save(\"random20_routes_map.html\")\n",
    "\n",
    "# Afficher la carte dans le notebook \n",
    "from IPython.display import IFrame\n",
    "IFrame(\"random20_routes_map.html\", width=800, height=600)"
   ],
   "metadata": {
    "collapsed": false,
    "ExecuteTime": {
     "end_time": "2024-05-30T17:09:41.880044Z",
     "start_time": "2024-05-30T17:09:41.476747Z"
    }
   },
   "id": "69cc12a755441320",
   "outputs": [
    {
     "data": {
      "text/plain": [
       "<IPython.lib.display.IFrame at 0x1dd36d0fb00>"
      ],
      "text/html": [
       "\n",
       "        <iframe\n",
       "            width=\"800\"\n",
       "            height=\"600\"\n",
       "            src=\"random20_routes_map.html\"\n",
       "            frameborder=\"0\"\n",
       "            allowfullscreen\n",
       "            \n",
       "        ></iframe>\n",
       "        "
      ]
     },
     "execution_count": 10,
     "metadata": {},
     "output_type": "execute_result"
    }
   ],
   "execution_count": 10
  },
  {
   "cell_type": "code",
   "source": [
    "# Get 10 random unique route IDs\n",
    "num_routes_to_plot = 20\n",
    "random_routes = random.sample(list(set(data_austin[\"RouteID\"])), num_routes_to_plot)\n",
    "\n",
    "# Filter the DataFrame to include only rows with the selected route IDs\n",
    "random_routes_data = data_austin[data_austin[\"RouteID\"].isin(random_routes)]\n",
    "\n",
    "# Create a function to check if two routes overlap\n",
    "def check_routes_overlap(route1, route2):\n",
    "    line1 = LineString(route1)\n",
    "    line2 = LineString(route2)\n",
    "    return line1.intersects(line2)\n",
    "\n",
    "overlapping_routes = []\n",
    "\n",
    "# Group the data by route_id and convert each group to a DataFrame\n",
    "grouped_routes = random_routes_data.groupby(\"RouteID\")\n",
    "for _, group in grouped_routes:\n",
    "    route_coords = list(zip(group[\"Latitude\"], group[\"Longitude\"]))\n",
    "    for _, other_group in grouped_routes:\n",
    "        if group is not other_group:\n",
    "            other_route_coords = list(zip(other_group[\"Latitude\"], other_group[\"Longitude\"]))\n",
    "            if check_routes_overlap(route_coords, other_route_coords):\n",
    "                overlapping_routes.append((group[\"RouteID\"].iloc[0], other_group[\"RouteID\"].iloc[0]))\n",
    "\n",
    "print(\"Overlapping routes:\", overlapping_routes)"
   ],
   "metadata": {
    "collapsed": false,
    "ExecuteTime": {
     "end_time": "2024-05-30T17:09:42.507154Z",
     "start_time": "2024-05-30T17:09:41.884551Z"
    }
   },
   "id": "bf173195f205a37d",
   "outputs": [
    {
     "name": "stdout",
     "output_type": "stream",
     "text": [
      "Overlapping routes: [('RouteID_1462e47a-5f19-48c6-8dae-965a7647f79f', 'RouteID_1462e47a-5f19-48c6-8dae-965a7647f79f'), ('RouteID_1462e47a-5f19-48c6-8dae-965a7647f79f', 'RouteID_23fc49d1-fefb-46de-a389-6defe188f030'), ('RouteID_1462e47a-5f19-48c6-8dae-965a7647f79f', 'RouteID_610c9755-db00-4dd3-b12b-8dd855b5d60b'), ('RouteID_1462e47a-5f19-48c6-8dae-965a7647f79f', 'RouteID_751a2d3d-3705-4beb-b3e1-c43b9be18462'), ('RouteID_1462e47a-5f19-48c6-8dae-965a7647f79f', 'RouteID_974820df-51c9-4536-a1c2-0a7dd82cb138'), ('RouteID_1462e47a-5f19-48c6-8dae-965a7647f79f', 'RouteID_a7fec47b-3157-4286-98c9-adc4f31d1a47'), ('RouteID_1462e47a-5f19-48c6-8dae-965a7647f79f', 'RouteID_c652d0d2-1602-4c1c-aae2-88e82c41308e'), ('RouteID_1462e47a-5f19-48c6-8dae-965a7647f79f', 'RouteID_c8149850-7628-4c68-a9b5-f00de8f31b01'), ('RouteID_1462e47a-5f19-48c6-8dae-965a7647f79f', 'RouteID_da64c368-3990-4013-bdfb-8523599f8619'), ('RouteID_23fc49d1-fefb-46de-a389-6defe188f030', 'RouteID_1462e47a-5f19-48c6-8dae-965a7647f79f'), ('RouteID_23fc49d1-fefb-46de-a389-6defe188f030', 'RouteID_23fc49d1-fefb-46de-a389-6defe188f030'), ('RouteID_23fc49d1-fefb-46de-a389-6defe188f030', 'RouteID_610c9755-db00-4dd3-b12b-8dd855b5d60b'), ('RouteID_23fc49d1-fefb-46de-a389-6defe188f030', 'RouteID_751a2d3d-3705-4beb-b3e1-c43b9be18462'), ('RouteID_23fc49d1-fefb-46de-a389-6defe188f030', 'RouteID_974820df-51c9-4536-a1c2-0a7dd82cb138'), ('RouteID_23fc49d1-fefb-46de-a389-6defe188f030', 'RouteID_a7fec47b-3157-4286-98c9-adc4f31d1a47'), ('RouteID_23fc49d1-fefb-46de-a389-6defe188f030', 'RouteID_c652d0d2-1602-4c1c-aae2-88e82c41308e'), ('RouteID_23fc49d1-fefb-46de-a389-6defe188f030', 'RouteID_c8149850-7628-4c68-a9b5-f00de8f31b01'), ('RouteID_23fc49d1-fefb-46de-a389-6defe188f030', 'RouteID_da64c368-3990-4013-bdfb-8523599f8619'), ('RouteID_416921e2-b706-47e7-9de8-c2ada3fea9b7', 'RouteID_416921e2-b706-47e7-9de8-c2ada3fea9b7'), ('RouteID_416921e2-b706-47e7-9de8-c2ada3fea9b7', 'RouteID_4a181647-05ea-44e8-8f97-4bfe99767d0c'), ('RouteID_416921e2-b706-47e7-9de8-c2ada3fea9b7', 'RouteID_611a0158-4acc-4964-be32-0581f0e7c92a'), ('RouteID_416921e2-b706-47e7-9de8-c2ada3fea9b7', 'RouteID_672a6034-59eb-4f8e-a819-b7444b4ed66d'), ('RouteID_416921e2-b706-47e7-9de8-c2ada3fea9b7', 'RouteID_744b3a9f-4813-4d4a-8b5b-3145790b5f92'), ('RouteID_416921e2-b706-47e7-9de8-c2ada3fea9b7', 'RouteID_780c349e-4b3b-4335-91ea-bd997d907f08'), ('RouteID_416921e2-b706-47e7-9de8-c2ada3fea9b7', 'RouteID_9a3c6431-b74e-4932-bd48-771e37072350'), ('RouteID_416921e2-b706-47e7-9de8-c2ada3fea9b7', 'RouteID_ba3daea9-bdc4-444e-bc7d-ed1c4df07936'), ('RouteID_416921e2-b706-47e7-9de8-c2ada3fea9b7', 'RouteID_d513a102-cc82-4d32-8939-b9cb0c3a31c7'), ('RouteID_416921e2-b706-47e7-9de8-c2ada3fea9b7', 'RouteID_eb266843-1320-45e3-94fc-784a027a6bf8'), ('RouteID_4a181647-05ea-44e8-8f97-4bfe99767d0c', 'RouteID_416921e2-b706-47e7-9de8-c2ada3fea9b7'), ('RouteID_4a181647-05ea-44e8-8f97-4bfe99767d0c', 'RouteID_4a181647-05ea-44e8-8f97-4bfe99767d0c'), ('RouteID_4a181647-05ea-44e8-8f97-4bfe99767d0c', 'RouteID_611a0158-4acc-4964-be32-0581f0e7c92a'), ('RouteID_4a181647-05ea-44e8-8f97-4bfe99767d0c', 'RouteID_672a6034-59eb-4f8e-a819-b7444b4ed66d'), ('RouteID_4a181647-05ea-44e8-8f97-4bfe99767d0c', 'RouteID_744b3a9f-4813-4d4a-8b5b-3145790b5f92'), ('RouteID_4a181647-05ea-44e8-8f97-4bfe99767d0c', 'RouteID_780c349e-4b3b-4335-91ea-bd997d907f08'), ('RouteID_4a181647-05ea-44e8-8f97-4bfe99767d0c', 'RouteID_9a3c6431-b74e-4932-bd48-771e37072350'), ('RouteID_4a181647-05ea-44e8-8f97-4bfe99767d0c', 'RouteID_ba3daea9-bdc4-444e-bc7d-ed1c4df07936'), ('RouteID_4a181647-05ea-44e8-8f97-4bfe99767d0c', 'RouteID_d513a102-cc82-4d32-8939-b9cb0c3a31c7'), ('RouteID_4a181647-05ea-44e8-8f97-4bfe99767d0c', 'RouteID_eb266843-1320-45e3-94fc-784a027a6bf8'), ('RouteID_610c9755-db00-4dd3-b12b-8dd855b5d60b', 'RouteID_1462e47a-5f19-48c6-8dae-965a7647f79f'), ('RouteID_610c9755-db00-4dd3-b12b-8dd855b5d60b', 'RouteID_23fc49d1-fefb-46de-a389-6defe188f030'), ('RouteID_610c9755-db00-4dd3-b12b-8dd855b5d60b', 'RouteID_610c9755-db00-4dd3-b12b-8dd855b5d60b'), ('RouteID_610c9755-db00-4dd3-b12b-8dd855b5d60b', 'RouteID_751a2d3d-3705-4beb-b3e1-c43b9be18462'), ('RouteID_610c9755-db00-4dd3-b12b-8dd855b5d60b', 'RouteID_974820df-51c9-4536-a1c2-0a7dd82cb138'), ('RouteID_610c9755-db00-4dd3-b12b-8dd855b5d60b', 'RouteID_a7fec47b-3157-4286-98c9-adc4f31d1a47'), ('RouteID_610c9755-db00-4dd3-b12b-8dd855b5d60b', 'RouteID_c652d0d2-1602-4c1c-aae2-88e82c41308e'), ('RouteID_610c9755-db00-4dd3-b12b-8dd855b5d60b', 'RouteID_c8149850-7628-4c68-a9b5-f00de8f31b01'), ('RouteID_610c9755-db00-4dd3-b12b-8dd855b5d60b', 'RouteID_da64c368-3990-4013-bdfb-8523599f8619'), ('RouteID_611a0158-4acc-4964-be32-0581f0e7c92a', 'RouteID_416921e2-b706-47e7-9de8-c2ada3fea9b7'), ('RouteID_611a0158-4acc-4964-be32-0581f0e7c92a', 'RouteID_4a181647-05ea-44e8-8f97-4bfe99767d0c'), ('RouteID_611a0158-4acc-4964-be32-0581f0e7c92a', 'RouteID_611a0158-4acc-4964-be32-0581f0e7c92a'), ('RouteID_611a0158-4acc-4964-be32-0581f0e7c92a', 'RouteID_672a6034-59eb-4f8e-a819-b7444b4ed66d'), ('RouteID_611a0158-4acc-4964-be32-0581f0e7c92a', 'RouteID_744b3a9f-4813-4d4a-8b5b-3145790b5f92'), ('RouteID_611a0158-4acc-4964-be32-0581f0e7c92a', 'RouteID_780c349e-4b3b-4335-91ea-bd997d907f08'), ('RouteID_611a0158-4acc-4964-be32-0581f0e7c92a', 'RouteID_9a3c6431-b74e-4932-bd48-771e37072350'), ('RouteID_611a0158-4acc-4964-be32-0581f0e7c92a', 'RouteID_ba3daea9-bdc4-444e-bc7d-ed1c4df07936'), ('RouteID_611a0158-4acc-4964-be32-0581f0e7c92a', 'RouteID_d513a102-cc82-4d32-8939-b9cb0c3a31c7'), ('RouteID_611a0158-4acc-4964-be32-0581f0e7c92a', 'RouteID_eb266843-1320-45e3-94fc-784a027a6bf8'), ('RouteID_672a6034-59eb-4f8e-a819-b7444b4ed66d', 'RouteID_416921e2-b706-47e7-9de8-c2ada3fea9b7'), ('RouteID_672a6034-59eb-4f8e-a819-b7444b4ed66d', 'RouteID_4a181647-05ea-44e8-8f97-4bfe99767d0c'), ('RouteID_672a6034-59eb-4f8e-a819-b7444b4ed66d', 'RouteID_611a0158-4acc-4964-be32-0581f0e7c92a'), ('RouteID_672a6034-59eb-4f8e-a819-b7444b4ed66d', 'RouteID_672a6034-59eb-4f8e-a819-b7444b4ed66d'), ('RouteID_672a6034-59eb-4f8e-a819-b7444b4ed66d', 'RouteID_744b3a9f-4813-4d4a-8b5b-3145790b5f92'), ('RouteID_672a6034-59eb-4f8e-a819-b7444b4ed66d', 'RouteID_780c349e-4b3b-4335-91ea-bd997d907f08'), ('RouteID_672a6034-59eb-4f8e-a819-b7444b4ed66d', 'RouteID_9a3c6431-b74e-4932-bd48-771e37072350'), ('RouteID_672a6034-59eb-4f8e-a819-b7444b4ed66d', 'RouteID_ba3daea9-bdc4-444e-bc7d-ed1c4df07936'), ('RouteID_672a6034-59eb-4f8e-a819-b7444b4ed66d', 'RouteID_d513a102-cc82-4d32-8939-b9cb0c3a31c7'), ('RouteID_672a6034-59eb-4f8e-a819-b7444b4ed66d', 'RouteID_eb266843-1320-45e3-94fc-784a027a6bf8'), ('RouteID_6b7ce85a-b117-4af2-b586-2390cdb49d9e', 'RouteID_6b7ce85a-b117-4af2-b586-2390cdb49d9e'), ('RouteID_744b3a9f-4813-4d4a-8b5b-3145790b5f92', 'RouteID_416921e2-b706-47e7-9de8-c2ada3fea9b7'), ('RouteID_744b3a9f-4813-4d4a-8b5b-3145790b5f92', 'RouteID_4a181647-05ea-44e8-8f97-4bfe99767d0c'), ('RouteID_744b3a9f-4813-4d4a-8b5b-3145790b5f92', 'RouteID_611a0158-4acc-4964-be32-0581f0e7c92a'), ('RouteID_744b3a9f-4813-4d4a-8b5b-3145790b5f92', 'RouteID_672a6034-59eb-4f8e-a819-b7444b4ed66d'), ('RouteID_744b3a9f-4813-4d4a-8b5b-3145790b5f92', 'RouteID_744b3a9f-4813-4d4a-8b5b-3145790b5f92'), ('RouteID_744b3a9f-4813-4d4a-8b5b-3145790b5f92', 'RouteID_780c349e-4b3b-4335-91ea-bd997d907f08'), ('RouteID_744b3a9f-4813-4d4a-8b5b-3145790b5f92', 'RouteID_9a3c6431-b74e-4932-bd48-771e37072350'), ('RouteID_744b3a9f-4813-4d4a-8b5b-3145790b5f92', 'RouteID_ba3daea9-bdc4-444e-bc7d-ed1c4df07936'), ('RouteID_744b3a9f-4813-4d4a-8b5b-3145790b5f92', 'RouteID_d513a102-cc82-4d32-8939-b9cb0c3a31c7'), ('RouteID_744b3a9f-4813-4d4a-8b5b-3145790b5f92', 'RouteID_eb266843-1320-45e3-94fc-784a027a6bf8'), ('RouteID_751a2d3d-3705-4beb-b3e1-c43b9be18462', 'RouteID_1462e47a-5f19-48c6-8dae-965a7647f79f'), ('RouteID_751a2d3d-3705-4beb-b3e1-c43b9be18462', 'RouteID_23fc49d1-fefb-46de-a389-6defe188f030'), ('RouteID_751a2d3d-3705-4beb-b3e1-c43b9be18462', 'RouteID_610c9755-db00-4dd3-b12b-8dd855b5d60b'), ('RouteID_751a2d3d-3705-4beb-b3e1-c43b9be18462', 'RouteID_751a2d3d-3705-4beb-b3e1-c43b9be18462'), ('RouteID_751a2d3d-3705-4beb-b3e1-c43b9be18462', 'RouteID_974820df-51c9-4536-a1c2-0a7dd82cb138'), ('RouteID_751a2d3d-3705-4beb-b3e1-c43b9be18462', 'RouteID_a7fec47b-3157-4286-98c9-adc4f31d1a47'), ('RouteID_751a2d3d-3705-4beb-b3e1-c43b9be18462', 'RouteID_c652d0d2-1602-4c1c-aae2-88e82c41308e'), ('RouteID_751a2d3d-3705-4beb-b3e1-c43b9be18462', 'RouteID_c8149850-7628-4c68-a9b5-f00de8f31b01'), ('RouteID_751a2d3d-3705-4beb-b3e1-c43b9be18462', 'RouteID_da64c368-3990-4013-bdfb-8523599f8619'), ('RouteID_780c349e-4b3b-4335-91ea-bd997d907f08', 'RouteID_416921e2-b706-47e7-9de8-c2ada3fea9b7'), ('RouteID_780c349e-4b3b-4335-91ea-bd997d907f08', 'RouteID_4a181647-05ea-44e8-8f97-4bfe99767d0c'), ('RouteID_780c349e-4b3b-4335-91ea-bd997d907f08', 'RouteID_611a0158-4acc-4964-be32-0581f0e7c92a'), ('RouteID_780c349e-4b3b-4335-91ea-bd997d907f08', 'RouteID_672a6034-59eb-4f8e-a819-b7444b4ed66d'), ('RouteID_780c349e-4b3b-4335-91ea-bd997d907f08', 'RouteID_744b3a9f-4813-4d4a-8b5b-3145790b5f92'), ('RouteID_780c349e-4b3b-4335-91ea-bd997d907f08', 'RouteID_780c349e-4b3b-4335-91ea-bd997d907f08'), ('RouteID_780c349e-4b3b-4335-91ea-bd997d907f08', 'RouteID_9a3c6431-b74e-4932-bd48-771e37072350'), ('RouteID_780c349e-4b3b-4335-91ea-bd997d907f08', 'RouteID_ba3daea9-bdc4-444e-bc7d-ed1c4df07936'), ('RouteID_780c349e-4b3b-4335-91ea-bd997d907f08', 'RouteID_d513a102-cc82-4d32-8939-b9cb0c3a31c7'), ('RouteID_780c349e-4b3b-4335-91ea-bd997d907f08', 'RouteID_eb266843-1320-45e3-94fc-784a027a6bf8'), ('RouteID_974820df-51c9-4536-a1c2-0a7dd82cb138', 'RouteID_1462e47a-5f19-48c6-8dae-965a7647f79f'), ('RouteID_974820df-51c9-4536-a1c2-0a7dd82cb138', 'RouteID_23fc49d1-fefb-46de-a389-6defe188f030'), ('RouteID_974820df-51c9-4536-a1c2-0a7dd82cb138', 'RouteID_610c9755-db00-4dd3-b12b-8dd855b5d60b'), ('RouteID_974820df-51c9-4536-a1c2-0a7dd82cb138', 'RouteID_751a2d3d-3705-4beb-b3e1-c43b9be18462'), ('RouteID_974820df-51c9-4536-a1c2-0a7dd82cb138', 'RouteID_974820df-51c9-4536-a1c2-0a7dd82cb138'), ('RouteID_974820df-51c9-4536-a1c2-0a7dd82cb138', 'RouteID_a7fec47b-3157-4286-98c9-adc4f31d1a47'), ('RouteID_974820df-51c9-4536-a1c2-0a7dd82cb138', 'RouteID_c652d0d2-1602-4c1c-aae2-88e82c41308e'), ('RouteID_974820df-51c9-4536-a1c2-0a7dd82cb138', 'RouteID_c8149850-7628-4c68-a9b5-f00de8f31b01'), ('RouteID_974820df-51c9-4536-a1c2-0a7dd82cb138', 'RouteID_da64c368-3990-4013-bdfb-8523599f8619'), ('RouteID_9a3c6431-b74e-4932-bd48-771e37072350', 'RouteID_416921e2-b706-47e7-9de8-c2ada3fea9b7'), ('RouteID_9a3c6431-b74e-4932-bd48-771e37072350', 'RouteID_4a181647-05ea-44e8-8f97-4bfe99767d0c'), ('RouteID_9a3c6431-b74e-4932-bd48-771e37072350', 'RouteID_611a0158-4acc-4964-be32-0581f0e7c92a'), ('RouteID_9a3c6431-b74e-4932-bd48-771e37072350', 'RouteID_672a6034-59eb-4f8e-a819-b7444b4ed66d'), ('RouteID_9a3c6431-b74e-4932-bd48-771e37072350', 'RouteID_744b3a9f-4813-4d4a-8b5b-3145790b5f92'), ('RouteID_9a3c6431-b74e-4932-bd48-771e37072350', 'RouteID_780c349e-4b3b-4335-91ea-bd997d907f08'), ('RouteID_9a3c6431-b74e-4932-bd48-771e37072350', 'RouteID_9a3c6431-b74e-4932-bd48-771e37072350'), ('RouteID_9a3c6431-b74e-4932-bd48-771e37072350', 'RouteID_ba3daea9-bdc4-444e-bc7d-ed1c4df07936'), ('RouteID_9a3c6431-b74e-4932-bd48-771e37072350', 'RouteID_d513a102-cc82-4d32-8939-b9cb0c3a31c7'), ('RouteID_9a3c6431-b74e-4932-bd48-771e37072350', 'RouteID_eb266843-1320-45e3-94fc-784a027a6bf8'), ('RouteID_a7fec47b-3157-4286-98c9-adc4f31d1a47', 'RouteID_1462e47a-5f19-48c6-8dae-965a7647f79f'), ('RouteID_a7fec47b-3157-4286-98c9-adc4f31d1a47', 'RouteID_23fc49d1-fefb-46de-a389-6defe188f030'), ('RouteID_a7fec47b-3157-4286-98c9-adc4f31d1a47', 'RouteID_610c9755-db00-4dd3-b12b-8dd855b5d60b'), ('RouteID_a7fec47b-3157-4286-98c9-adc4f31d1a47', 'RouteID_751a2d3d-3705-4beb-b3e1-c43b9be18462'), ('RouteID_a7fec47b-3157-4286-98c9-adc4f31d1a47', 'RouteID_974820df-51c9-4536-a1c2-0a7dd82cb138'), ('RouteID_a7fec47b-3157-4286-98c9-adc4f31d1a47', 'RouteID_a7fec47b-3157-4286-98c9-adc4f31d1a47'), ('RouteID_a7fec47b-3157-4286-98c9-adc4f31d1a47', 'RouteID_c652d0d2-1602-4c1c-aae2-88e82c41308e'), ('RouteID_a7fec47b-3157-4286-98c9-adc4f31d1a47', 'RouteID_c8149850-7628-4c68-a9b5-f00de8f31b01'), ('RouteID_a7fec47b-3157-4286-98c9-adc4f31d1a47', 'RouteID_da64c368-3990-4013-bdfb-8523599f8619'), ('RouteID_ba3daea9-bdc4-444e-bc7d-ed1c4df07936', 'RouteID_416921e2-b706-47e7-9de8-c2ada3fea9b7'), ('RouteID_ba3daea9-bdc4-444e-bc7d-ed1c4df07936', 'RouteID_4a181647-05ea-44e8-8f97-4bfe99767d0c'), ('RouteID_ba3daea9-bdc4-444e-bc7d-ed1c4df07936', 'RouteID_611a0158-4acc-4964-be32-0581f0e7c92a'), ('RouteID_ba3daea9-bdc4-444e-bc7d-ed1c4df07936', 'RouteID_672a6034-59eb-4f8e-a819-b7444b4ed66d'), ('RouteID_ba3daea9-bdc4-444e-bc7d-ed1c4df07936', 'RouteID_744b3a9f-4813-4d4a-8b5b-3145790b5f92'), ('RouteID_ba3daea9-bdc4-444e-bc7d-ed1c4df07936', 'RouteID_780c349e-4b3b-4335-91ea-bd997d907f08'), ('RouteID_ba3daea9-bdc4-444e-bc7d-ed1c4df07936', 'RouteID_9a3c6431-b74e-4932-bd48-771e37072350'), ('RouteID_ba3daea9-bdc4-444e-bc7d-ed1c4df07936', 'RouteID_ba3daea9-bdc4-444e-bc7d-ed1c4df07936'), ('RouteID_ba3daea9-bdc4-444e-bc7d-ed1c4df07936', 'RouteID_d513a102-cc82-4d32-8939-b9cb0c3a31c7'), ('RouteID_ba3daea9-bdc4-444e-bc7d-ed1c4df07936', 'RouteID_eb266843-1320-45e3-94fc-784a027a6bf8'), ('RouteID_c652d0d2-1602-4c1c-aae2-88e82c41308e', 'RouteID_1462e47a-5f19-48c6-8dae-965a7647f79f'), ('RouteID_c652d0d2-1602-4c1c-aae2-88e82c41308e', 'RouteID_23fc49d1-fefb-46de-a389-6defe188f030'), ('RouteID_c652d0d2-1602-4c1c-aae2-88e82c41308e', 'RouteID_610c9755-db00-4dd3-b12b-8dd855b5d60b'), ('RouteID_c652d0d2-1602-4c1c-aae2-88e82c41308e', 'RouteID_751a2d3d-3705-4beb-b3e1-c43b9be18462'), ('RouteID_c652d0d2-1602-4c1c-aae2-88e82c41308e', 'RouteID_974820df-51c9-4536-a1c2-0a7dd82cb138'), ('RouteID_c652d0d2-1602-4c1c-aae2-88e82c41308e', 'RouteID_a7fec47b-3157-4286-98c9-adc4f31d1a47'), ('RouteID_c652d0d2-1602-4c1c-aae2-88e82c41308e', 'RouteID_c652d0d2-1602-4c1c-aae2-88e82c41308e'), ('RouteID_c652d0d2-1602-4c1c-aae2-88e82c41308e', 'RouteID_c8149850-7628-4c68-a9b5-f00de8f31b01'), ('RouteID_c652d0d2-1602-4c1c-aae2-88e82c41308e', 'RouteID_da64c368-3990-4013-bdfb-8523599f8619'), ('RouteID_c8149850-7628-4c68-a9b5-f00de8f31b01', 'RouteID_1462e47a-5f19-48c6-8dae-965a7647f79f'), ('RouteID_c8149850-7628-4c68-a9b5-f00de8f31b01', 'RouteID_23fc49d1-fefb-46de-a389-6defe188f030'), ('RouteID_c8149850-7628-4c68-a9b5-f00de8f31b01', 'RouteID_610c9755-db00-4dd3-b12b-8dd855b5d60b'), ('RouteID_c8149850-7628-4c68-a9b5-f00de8f31b01', 'RouteID_751a2d3d-3705-4beb-b3e1-c43b9be18462'), ('RouteID_c8149850-7628-4c68-a9b5-f00de8f31b01', 'RouteID_974820df-51c9-4536-a1c2-0a7dd82cb138'), ('RouteID_c8149850-7628-4c68-a9b5-f00de8f31b01', 'RouteID_a7fec47b-3157-4286-98c9-adc4f31d1a47'), ('RouteID_c8149850-7628-4c68-a9b5-f00de8f31b01', 'RouteID_c652d0d2-1602-4c1c-aae2-88e82c41308e'), ('RouteID_c8149850-7628-4c68-a9b5-f00de8f31b01', 'RouteID_c8149850-7628-4c68-a9b5-f00de8f31b01'), ('RouteID_c8149850-7628-4c68-a9b5-f00de8f31b01', 'RouteID_da64c368-3990-4013-bdfb-8523599f8619'), ('RouteID_d513a102-cc82-4d32-8939-b9cb0c3a31c7', 'RouteID_416921e2-b706-47e7-9de8-c2ada3fea9b7'), ('RouteID_d513a102-cc82-4d32-8939-b9cb0c3a31c7', 'RouteID_4a181647-05ea-44e8-8f97-4bfe99767d0c'), ('RouteID_d513a102-cc82-4d32-8939-b9cb0c3a31c7', 'RouteID_611a0158-4acc-4964-be32-0581f0e7c92a'), ('RouteID_d513a102-cc82-4d32-8939-b9cb0c3a31c7', 'RouteID_672a6034-59eb-4f8e-a819-b7444b4ed66d'), ('RouteID_d513a102-cc82-4d32-8939-b9cb0c3a31c7', 'RouteID_744b3a9f-4813-4d4a-8b5b-3145790b5f92'), ('RouteID_d513a102-cc82-4d32-8939-b9cb0c3a31c7', 'RouteID_780c349e-4b3b-4335-91ea-bd997d907f08'), ('RouteID_d513a102-cc82-4d32-8939-b9cb0c3a31c7', 'RouteID_9a3c6431-b74e-4932-bd48-771e37072350'), ('RouteID_d513a102-cc82-4d32-8939-b9cb0c3a31c7', 'RouteID_ba3daea9-bdc4-444e-bc7d-ed1c4df07936'), ('RouteID_d513a102-cc82-4d32-8939-b9cb0c3a31c7', 'RouteID_d513a102-cc82-4d32-8939-b9cb0c3a31c7'), ('RouteID_d513a102-cc82-4d32-8939-b9cb0c3a31c7', 'RouteID_eb266843-1320-45e3-94fc-784a027a6bf8'), ('RouteID_da64c368-3990-4013-bdfb-8523599f8619', 'RouteID_1462e47a-5f19-48c6-8dae-965a7647f79f'), ('RouteID_da64c368-3990-4013-bdfb-8523599f8619', 'RouteID_23fc49d1-fefb-46de-a389-6defe188f030'), ('RouteID_da64c368-3990-4013-bdfb-8523599f8619', 'RouteID_610c9755-db00-4dd3-b12b-8dd855b5d60b'), ('RouteID_da64c368-3990-4013-bdfb-8523599f8619', 'RouteID_751a2d3d-3705-4beb-b3e1-c43b9be18462'), ('RouteID_da64c368-3990-4013-bdfb-8523599f8619', 'RouteID_974820df-51c9-4536-a1c2-0a7dd82cb138'), ('RouteID_da64c368-3990-4013-bdfb-8523599f8619', 'RouteID_a7fec47b-3157-4286-98c9-adc4f31d1a47'), ('RouteID_da64c368-3990-4013-bdfb-8523599f8619', 'RouteID_c652d0d2-1602-4c1c-aae2-88e82c41308e'), ('RouteID_da64c368-3990-4013-bdfb-8523599f8619', 'RouteID_c8149850-7628-4c68-a9b5-f00de8f31b01'), ('RouteID_da64c368-3990-4013-bdfb-8523599f8619', 'RouteID_da64c368-3990-4013-bdfb-8523599f8619'), ('RouteID_eb266843-1320-45e3-94fc-784a027a6bf8', 'RouteID_416921e2-b706-47e7-9de8-c2ada3fea9b7'), ('RouteID_eb266843-1320-45e3-94fc-784a027a6bf8', 'RouteID_4a181647-05ea-44e8-8f97-4bfe99767d0c'), ('RouteID_eb266843-1320-45e3-94fc-784a027a6bf8', 'RouteID_611a0158-4acc-4964-be32-0581f0e7c92a'), ('RouteID_eb266843-1320-45e3-94fc-784a027a6bf8', 'RouteID_672a6034-59eb-4f8e-a819-b7444b4ed66d'), ('RouteID_eb266843-1320-45e3-94fc-784a027a6bf8', 'RouteID_744b3a9f-4813-4d4a-8b5b-3145790b5f92'), ('RouteID_eb266843-1320-45e3-94fc-784a027a6bf8', 'RouteID_780c349e-4b3b-4335-91ea-bd997d907f08'), ('RouteID_eb266843-1320-45e3-94fc-784a027a6bf8', 'RouteID_9a3c6431-b74e-4932-bd48-771e37072350'), ('RouteID_eb266843-1320-45e3-94fc-784a027a6bf8', 'RouteID_ba3daea9-bdc4-444e-bc7d-ed1c4df07936'), ('RouteID_eb266843-1320-45e3-94fc-784a027a6bf8', 'RouteID_d513a102-cc82-4d32-8939-b9cb0c3a31c7'), ('RouteID_eb266843-1320-45e3-94fc-784a027a6bf8', 'RouteID_eb266843-1320-45e3-94fc-784a027a6bf8')]\n"
     ]
    }
   ],
   "execution_count": 11
  },
  {
   "cell_type": "code",
   "source": [
    "# Get 10 random unique route IDs\n",
    "num_routes_to_plot = 20\n",
    "random_routes = random.sample(list(set(data_austin[\"RouteID\"])), num_routes_to_plot)\n",
    "\n",
    "# Filter the DataFrame to include only rows with the selected route IDs\n",
    "random_routes_data = data_austin[data_austin[\"RouteID\"].isin(random_routes)]\n",
    "\n",
    "# Create a function to check if two routes overlap\n",
    "def check_routes_overlap(route1, route2):\n",
    "    line1 = LineString(route1)\n",
    "    line2 = LineString(route2)\n",
    "    return line1.intersects(line2)\n",
    "\n",
    "overlapping_routes = []\n",
    "\n",
    "# Group the data by route_id and convert each group to a DataFrame\n",
    "grouped_routes = random_routes_data.groupby(\"RouteID\")\n",
    "for _, group in grouped_routes:\n",
    "    route_coords = list(zip(group[\"Latitude\"], group[\"Longitude\"]))\n",
    "    for _, other_group in grouped_routes:\n",
    "        if group is not other_group:\n",
    "            other_route_coords = list(zip(other_group[\"Latitude\"], other_group[\"Longitude\"]))\n",
    "            if check_routes_overlap(route_coords, other_route_coords):\n",
    "                overlapping_routes.append((route_coords, other_route_coords))\n",
    "\n",
    "# Create a folium map centered around Austin\n",
    "austin_map = folium.Map(location=[random_routes_data['Latitude'].mean(), random_routes_data['Longitude'].mean()], zoom_start=10)\n",
    "\n",
    "# Plot individual routes as blue lines\n",
    "for _, group in grouped_routes:\n",
    "    route_coords = list(zip(group[\"Latitude\"], group[\"Longitude\"]))\n",
    "    folium.PolyLine(locations=route_coords, color='blue').add_to(austin_map)\n",
    "\n",
    "# Plot overlapping routes as red lines\n",
    "for route_coords, other_route_coords in overlapping_routes:\n",
    "    folium.PolyLine(locations=route_coords, color='red').add_to(austin_map)\n",
    "    folium.PolyLine(locations=other_route_coords, color='red').add_to(austin_map)\n",
    "\n",
    "# Save the map as an HTML file\n",
    "austin_map.save(\"overlapping_routes_map.html\")\n",
    "\n",
    "# Afficher la carte dans le notebook \n",
    "from IPython.display import IFrame\n",
    "IFrame(\"overlapping_routes_map.html\", width=800, height=600)\n"
   ],
   "metadata": {
    "collapsed": false,
    "ExecuteTime": {
     "end_time": "2024-05-30T17:09:43.361534Z",
     "start_time": "2024-05-30T17:09:42.509667Z"
    }
   },
   "id": "40977b9223026719",
   "outputs": [
    {
     "data": {
      "text/plain": [
       "<IPython.lib.display.IFrame at 0x1dd3e7f3ce0>"
      ],
      "text/html": [
       "\n",
       "        <iframe\n",
       "            width=\"800\"\n",
       "            height=\"600\"\n",
       "            src=\"overlapping_routes_map.html\"\n",
       "            frameborder=\"0\"\n",
       "            allowfullscreen\n",
       "            \n",
       "        ></iframe>\n",
       "        "
      ]
     },
     "execution_count": 12,
     "metadata": {},
     "output_type": "execute_result"
    }
   ],
   "execution_count": 12
  },
  {
   "cell_type": "code",
   "source": [
    "# Step 1: Filter the DataFrame to include only rows with \"Settle\" in the \"City\" column\n",
    "data_settle = data[data[\"City\"] == \"Seattle\"]\n",
    "\n",
    "# Step 2: Randomly select 20 unique route IDs from the filtered data\n",
    "num_routes_to_plot = 50\n",
    "random_routes = random.sample(list(set(data_settle[\"RouteID\"])), num_routes_to_plot)\n",
    "\n",
    "# Step 3: Create a DataFrame containing only the selected routes\n",
    "random_routes_data = data_settle[data_settle[\"RouteID\"].isin(random_routes)]\n",
    "\n",
    "# Step 4: Create a folium map centered around Settle\n",
    "settle_map = folium.Map(location=[47.6062, -122.3321], zoom_start=11)\n",
    "\n",
    "# Plot the selected routes on the map with lines connecting stops\n",
    "for route_id in random_routes:\n",
    "    route_data = random_routes_data[random_routes_data[\"RouteID\"] == route_id]\n",
    "    coordinates = list(zip(route_data[\"Latitude\"], route_data[\"Longitude\"]))\n",
    "    folium.PolyLine(locations=coordinates, color='blue').add_to(settle_map)\n",
    "\n",
    "# Save the map as an HTML file\n",
    "settle_map.save(\"random_settle_routes_map.html\")\n",
    "\n",
    "# Afficher la carte dans le notebook \n",
    "from IPython.display import IFrame\n",
    "IFrame(\"random_settle_routes_map.html\", width=800, height=600)\n"
   ],
   "metadata": {
    "collapsed": false,
    "ExecuteTime": {
     "end_time": "2024-05-30T17:09:43.570026Z",
     "start_time": "2024-05-30T17:09:43.362543Z"
    }
   },
   "id": "e96d4684a181a398",
   "outputs": [
    {
     "data": {
      "text/plain": [
       "<IPython.lib.display.IFrame at 0x1dd36d28ec0>"
      ],
      "text/html": [
       "\n",
       "        <iframe\n",
       "            width=\"800\"\n",
       "            height=\"600\"\n",
       "            src=\"random_settle_routes_map.html\"\n",
       "            frameborder=\"0\"\n",
       "            allowfullscreen\n",
       "            \n",
       "        ></iframe>\n",
       "        "
      ]
     },
     "execution_count": 13,
     "metadata": {},
     "output_type": "execute_result"
    }
   ],
   "execution_count": 13
  },
  {
   "cell_type": "code",
   "source": [
    "# Step 1: Filter the DataFrame to include only rows with \"LA\" in the \"City\" column\n",
    "data_la = data[data[\"City\"] == \"LA\"]\n",
    "\n",
    "# Step 2: Randomly select 20 unique route IDs from the filtered data\n",
    "num_routes_to_plot = 20\n",
    "random_routes = random.sample(list(set(data_la[\"RouteID\"])), num_routes_to_plot)\n",
    "\n",
    "# Step 3: Create a DataFrame containing only the selected routes\n",
    "random_routes_data = data_la[data_la[\"RouteID\"].isin(random_routes)]\n",
    "\n",
    "# Step 4: Create a folium map centered around LA\n",
    "la_map = folium.Map(location=[34.0522, -118.2437], zoom_start=11)\n",
    "\n",
    "# Plot the selected routes on the map with lines connecting stops\n",
    "for route_id in random_routes:\n",
    "    route_data = random_routes_data[random_routes_data[\"RouteID\"] == route_id]\n",
    "    coordinates = list(zip(route_data[\"Latitude\"], route_data[\"Longitude\"]))\n",
    "    folium.PolyLine(locations=coordinates, color='blue').add_to(la_map)\n",
    "\n",
    "# Save the map as an HTML file\n",
    "la_map.save(\"random_la_routes_map.html\")\n",
    "\n",
    "from IPython.display import IFrame\n",
    "IFrame(\"random_la_routes_map.html\", width=800, height=600)\n"
   ],
   "metadata": {
    "collapsed": false,
    "ExecuteTime": {
     "end_time": "2024-05-30T17:09:43.798609Z",
     "start_time": "2024-05-30T17:09:43.572037Z"
    }
   },
   "id": "fe9f5651c4fb9dc8",
   "outputs": [
    {
     "data": {
      "text/plain": [
       "<IPython.lib.display.IFrame at 0x1dd40697c50>"
      ],
      "text/html": [
       "\n",
       "        <iframe\n",
       "            width=\"800\"\n",
       "            height=\"600\"\n",
       "            src=\"random_la_routes_map.html\"\n",
       "            frameborder=\"0\"\n",
       "            allowfullscreen\n",
       "            \n",
       "        ></iframe>\n",
       "        "
      ]
     },
     "execution_count": 14,
     "metadata": {},
     "output_type": "execute_result"
    }
   ],
   "execution_count": 14
  },
  {
   "cell_type": "code",
   "source": [
    "# Step 1: Filter the DataFrame to include only rows with \"LA\" in the \"City\" column\n",
    "data_boston = data[data[\"City\"] == \"Boston\"]\n",
    "\n",
    "# Step 2: Randomly select 20 unique route IDs from the filtered data\n",
    "num_routes_to_plot = 20\n",
    "random_routes = random.sample(list(set(data_boston[\"RouteID\"])), num_routes_to_plot)\n",
    "\n",
    "# Step 3: Create a DataFrame containing only the selected routes\n",
    "random_routes_data = data_boston[data_boston[\"RouteID\"].isin(random_routes)]\n",
    "\n",
    "# Step 4: Create a folium map centered around LA\n",
    "Boston_map = folium.Map(location=[42.3601, -71.0589], zoom_start=11)\n",
    "\n",
    "# Plot the selected routes on the map with lines connecting stops\n",
    "for route_id in random_routes:\n",
    "    route_data = random_routes_data[random_routes_data[\"RouteID\"] == route_id]\n",
    "    coordinates = list(zip(route_data[\"Latitude\"], route_data[\"Longitude\"]))\n",
    "    folium.PolyLine(locations=coordinates, color='blue').add_to(Boston_map)\n",
    "\n",
    "# Save the map as an HTML file\n",
    "Boston_map.save(\"Carte_routes_aléatoire_sans_itineraire.html\")\n",
    "\n",
    "from IPython.display import IFrame\n",
    "IFrame(\"Carte_routes_aléatoire_sans_itineraire.html\", width=800, height=600)"
   ],
   "metadata": {
    "collapsed": false,
    "ExecuteTime": {
     "end_time": "2024-05-30T17:09:43.965463Z",
     "start_time": "2024-05-30T17:09:43.800627Z"
    }
   },
   "id": "9b42b8dba7c25f2d",
   "outputs": [
    {
     "data": {
      "text/plain": [
       "<IPython.lib.display.IFrame at 0x1dd4126e3f0>"
      ],
      "text/html": [
       "\n",
       "        <iframe\n",
       "            width=\"800\"\n",
       "            height=\"600\"\n",
       "            src=\"Carte_routes_aléatoire_sans_itineraire.html\"\n",
       "            frameborder=\"0\"\n",
       "            allowfullscreen\n",
       "            \n",
       "        ></iframe>\n",
       "        "
      ]
     },
     "execution_count": 15,
     "metadata": {},
     "output_type": "execute_result"
    }
   ],
   "execution_count": 15
  },
  {
   "cell_type": "code",
   "source": [
    "# Step 1: Filter the DataFrame to include only rows with \"Boston\" in the \"City\" column\n",
    "data_boston = data[data[\"City\"] == \"Boston\"]\n",
    "\n",
    "# Obtenir 1 ID de route aléatoire unique\n",
    "num_routes_to_plot = 1\n",
    "random_routes = random.sample(list(set(data_boston[\"RouteID\"])), num_routes_to_plot)\n",
    "\n",
    "# Filtrer le DataFrame pour inclure uniquement les lignes avec les IDs de routes sélectionnés\n",
    "random_routes_data = data_boston[data_boston[\"RouteID\"].isin(random_routes)]\n",
    "\n",
    "# Créer une carte Folium centrée autour de Boston\n",
    "boston_map = folium.Map(location=[random_routes_data['Latitude'].mean(), random_routes_data['Longitude'].mean()], zoom_start=10)\n",
    "nord = random_routes_data['Latitude'].max() + 0.1\n",
    "sud = random_routes_data['Latitude'].min() - 0.1\n",
    "ouest = random_routes_data['Longitude'].min() - 0.1\n",
    "est = random_routes_data['Longitude'].max() + 0.1\n",
    "bbox = ([nord, sud, est, ouest])\n",
    "graph = ox.graph_from_bbox(bbox=bbox, network_type='drive')\n",
    "\n",
    "\n",
    "# Fonction pour obtenir les trajets pour un itinéraire\n",
    "def get_route_segments(route_data):\n",
    "    coordinates = list(zip(route_data[\"Latitude\"], route_data[\"Longitude\"]))\n",
    "\n",
    "    segments = []\n",
    "    for i in range(len(coordinates) - 1):\n",
    "        start = coordinates[i]\n",
    "        end = coordinates[i + 1]\n",
    "        orig_node = ox.distance.nearest_nodes(graph, start[1], start[0])\n",
    "        dest_node = ox.distance.nearest_nodes(graph, end[1], end[0])\n",
    "        route = ox.shortest_path(graph, orig_node, dest_node, weight='length')\n",
    "        if route is not None:\n",
    "            route_coords = [(graph.nodes[node]['y'], graph.nodes[node]['x']) for node in route]\n",
    "            segments.append(route_coords)\n",
    "\n",
    "    # Ajouter le segment de retour du dernier point au dépôt\n",
    "    start = coordinates[-1]\n",
    "    end = coordinates[0]\n",
    "    orig_node = ox.distance.nearest_nodes(graph, start[1], start[0])\n",
    "    dest_node = ox.distance.nearest_nodes(graph, end[1], end[0])\n",
    "    route = ox.shortest_path(graph, orig_node, dest_node, weight='length')\n",
    "    if route is not None:\n",
    "        route_coords = [(graph.nodes[node]['y'], graph.nodes[node]['x']) for node in route]\n",
    "        segments.append(route_coords)\n",
    "\n",
    "    return segments, coordinates\n",
    "\n",
    "# Utiliser ThreadPoolExecutor pour paralléliser les opérations\n",
    "with ThreadPoolExecutor() as executor:\n",
    "    future_to_route_id = {executor.submit(get_route_segments, route_data): route_id for route_id, route_data in random_routes_data.groupby(\"RouteID\")}\n",
    "    results = {future_to_route_id[future]: future.result() for future in future_to_route_id}\n",
    "\n",
    "# Itérer à travers les itinéraires sélectionnés et dessiner les trajets sur la carte\n",
    "for route_id, (segments, coordinates) in results.items():\n",
    "    for segment in segments:\n",
    "        folium.PolyLine(locations=segment, color='blue', weight=3, opacity=0.8).add_to(boston_map)\n",
    "\n",
    "    # Ajouter des marqueurs numérotés pour chaque arrêt\n",
    "    for i, (lat, lng) in enumerate(coordinates):\n",
    "        popup_text = f\"Stop {i+1}\"\n",
    "        folium.Marker([lat, lng], icon=folium.DivIcon(html=f'<div style=\"color: red; font-weight: bold; font-size: 12px;\">{i+1}</div>')).add_to(boston_map)\n",
    "\n",
    "    # Ajouter un point rouge pour la première station (le dépôt)\n",
    "    depot_lat, depot_lng = coordinates[0]\n",
    "    folium.Marker(\n",
    "        location=[depot_lat, depot_lng],\n",
    "        icon=folium.Icon(color='red', icon='info-sign'),\n",
    "        popup=f'Dépôt\\nLatitude: {depot_lat}\\nLongitude: {depot_lng}'\n",
    "    ).add_to(boston_map)\n",
    "\n",
    "\n",
    "    # Sauvegarder la carte en tant que fichier HTML\n",
    "boston_map.save(\"Route_Boston_Aléatoire_Avec_Routes.html\")\n",
    "\n",
    "from IPython.display import IFrame\n",
    "IFrame(\"Route_Boston_Aléatoire_Avec_Routes.html\", width=800, height=600)"
   ],
   "metadata": {
    "collapsed": false,
    "ExecuteTime": {
     "end_time": "2024-05-30T17:10:52.334149Z",
     "start_time": "2024-05-30T17:09:43.969480Z"
    }
   },
   "id": "29081f77df7c235e",
   "outputs": [
    {
     "data": {
      "text/plain": [
       "<IPython.lib.display.IFrame at 0x1dd491213d0>"
      ],
      "text/html": [
       "\n",
       "        <iframe\n",
       "            width=\"800\"\n",
       "            height=\"600\"\n",
       "            src=\"Route_Boston_Aléatoire_Avec_Routes.html\"\n",
       "            frameborder=\"0\"\n",
       "            allowfullscreen\n",
       "            \n",
       "        ></iframe>\n",
       "        "
      ]
     },
     "execution_count": 16,
     "metadata": {},
     "output_type": "execute_result"
    }
   ],
   "execution_count": 16
  },
  {
   "metadata": {
    "ExecuteTime": {
     "end_time": "2024-05-30T17:10:52.337895Z",
     "start_time": "2024-05-30T17:10:52.335157Z"
    }
   },
   "cell_type": "code",
   "source": "",
   "id": "fa7ed90cd6f18294",
   "outputs": [],
   "execution_count": 16
  }
 ],
 "metadata": {
  "kernelspec": {
   "display_name": "Python 3",
   "language": "python",
   "name": "python3"
  },
  "language_info": {
   "codemirror_mode": {
    "name": "ipython",
    "version": 2
   },
   "file_extension": ".py",
   "mimetype": "text/x-python",
   "name": "python",
   "nbconvert_exporter": "python",
   "pygments_lexer": "ipython2",
   "version": "2.7.6"
  }
 },
 "nbformat": 4,
 "nbformat_minor": 5
}
